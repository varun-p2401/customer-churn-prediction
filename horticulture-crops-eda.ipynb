{
 "cells": [
  {
   "cell_type": "markdown",
   "id": "alternative-arthritis",
   "metadata": {
    "papermill": {
     "duration": 0.020173,
     "end_time": "2022-12-12T14:56:59.396473",
     "exception": false,
     "start_time": "2022-12-12T14:56:59.376300",
     "status": "completed"
    },
    "tags": []
   },
   "source": [
    "# Introduction \n",
    "\n",
    "This notebook presents a basic EDA (Exploratory Data Analysis) of horticulture crops cultivation pattern in India over the Years 1991-92 to 2017-18.\n",
    "\n",
    "Data: [Horticulture Data](https://www.kaggle.com/datasets/ankitkumar2635/horticulture-crops-india)\n",
    "\n",
    "**Notes**\n",
    "\n",
    "* The column names ending with 'A' represent area in '000 Ha.\n",
    "* The column names ending with 'P' represents production in '000 MT.\n",
    "* The column names ending with 'Pdy' represents productivity in MT/Ha.\n",
    "* 'FAM' represents Flowers, Aromatic and Medicinal plant\n",
    "\n",
    "\n",
    "### Author: Ankit Kumar"
   ]
  },
  {
   "cell_type": "markdown",
   "id": "infrared-surface",
   "metadata": {
    "papermill": {
     "duration": 0.018633,
     "end_time": "2022-12-12T14:56:59.434393",
     "exception": false,
     "start_time": "2022-12-12T14:56:59.415760",
     "status": "completed"
    },
    "tags": []
   },
   "source": [
    "## Importing libraries"
   ]
  },
  {
   "cell_type": "code",
   "execution_count": 1,
   "id": "rubber-consultation",
   "metadata": {
    "execution": {
     "iopub.execute_input": "2022-12-12T14:56:59.481034Z",
     "iopub.status.busy": "2022-12-12T14:56:59.480301Z",
     "iopub.status.idle": "2022-12-12T14:57:00.352447Z",
     "shell.execute_reply": "2022-12-12T14:57:00.352909Z",
     "shell.execute_reply.started": "2022-12-12T14:44:13.145053Z"
    },
    "papermill": {
     "duration": 0.900072,
     "end_time": "2022-12-12T14:57:00.353189",
     "exception": false,
     "start_time": "2022-12-12T14:56:59.453117",
     "status": "completed"
    },
    "tags": []
   },
   "outputs": [],
   "source": [
    "import pandas as pd\n",
    "pd.plotting.register_matplotlib_converters()\n",
    "import matplotlib.pyplot as plt\n",
    "import seaborn as sns"
   ]
  },
  {
   "cell_type": "code",
   "execution_count": 2,
   "id": "emotional-survival",
   "metadata": {
    "execution": {
     "iopub.execute_input": "2022-12-12T14:57:00.394863Z",
     "iopub.status.busy": "2022-12-12T14:57:00.394096Z",
     "iopub.status.idle": "2022-12-12T14:57:00.423115Z",
     "shell.execute_reply": "2022-12-12T14:57:00.423609Z",
     "shell.execute_reply.started": "2022-12-12T14:44:14.140006Z"
    },
    "papermill": {
     "duration": 0.05145,
     "end_time": "2022-12-12T14:57:00.423805",
     "exception": false,
     "start_time": "2022-12-12T14:57:00.372355",
     "status": "completed"
    },
    "tags": []
   },
   "outputs": [],
   "source": [
    "# Load the dataset with year as index\n",
    "my_filepath =\"../input/horticulture-crops-india/Horticulture_Data.csv\"\n",
    "my_data = pd.read_csv(my_filepath, index_col = \"Year\", parse_dates = True)"
   ]
  },
  {
   "cell_type": "markdown",
   "id": "cubic-healing",
   "metadata": {
    "papermill": {
     "duration": 0.01859,
     "end_time": "2022-12-12T14:57:00.461313",
     "exception": false,
     "start_time": "2022-12-12T14:57:00.442723",
     "status": "completed"
    },
    "tags": []
   },
   "source": [
    "# EDA"
   ]
  },
  {
   "cell_type": "code",
   "execution_count": 3,
   "id": "muslim-dressing",
   "metadata": {
    "execution": {
     "iopub.execute_input": "2022-12-12T14:57:00.507268Z",
     "iopub.status.busy": "2022-12-12T14:57:00.506399Z",
     "iopub.status.idle": "2022-12-12T14:57:00.533266Z",
     "shell.execute_reply": "2022-12-12T14:57:00.532679Z",
     "shell.execute_reply.started": "2022-12-12T14:44:14.172903Z"
    },
    "papermill": {
     "duration": 0.052423,
     "end_time": "2022-12-12T14:57:00.533399",
     "exception": false,
     "start_time": "2022-12-12T14:57:00.480976",
     "status": "completed"
    },
    "tags": []
   },
   "outputs": [
    {
     "data": {
      "text/html": [
       "<div>\n",
       "<style scoped>\n",
       "    .dataframe tbody tr th:only-of-type {\n",
       "        vertical-align: middle;\n",
       "    }\n",
       "\n",
       "    .dataframe tbody tr th {\n",
       "        vertical-align: top;\n",
       "    }\n",
       "\n",
       "    .dataframe thead th {\n",
       "        text-align: right;\n",
       "    }\n",
       "</style>\n",
       "<table border=\"1\" class=\"dataframe\">\n",
       "  <thead>\n",
       "    <tr style=\"text-align: right;\">\n",
       "      <th></th>\n",
       "      <th>Fruits_A</th>\n",
       "      <th>Fruits_P</th>\n",
       "      <th>Fruits_Pdy</th>\n",
       "      <th>Veg_A</th>\n",
       "      <th>Veg_P</th>\n",
       "      <th>Veg_Pdy</th>\n",
       "      <th>FAM_A</th>\n",
       "      <th>FAM_P</th>\n",
       "      <th>FAM_Pdy</th>\n",
       "      <th>Plantation_Crops_A</th>\n",
       "      <th>Plantation_Crops_P</th>\n",
       "      <th>Plantation_Crops_Pdy</th>\n",
       "      <th>Spices_A</th>\n",
       "      <th>Spices_P</th>\n",
       "      <th>Spices_Pdy</th>\n",
       "      <th>Total_A</th>\n",
       "      <th>Total_P</th>\n",
       "      <th>Total_Pdy</th>\n",
       "    </tr>\n",
       "    <tr>\n",
       "      <th>Year</th>\n",
       "      <th></th>\n",
       "      <th></th>\n",
       "      <th></th>\n",
       "      <th></th>\n",
       "      <th></th>\n",
       "      <th></th>\n",
       "      <th></th>\n",
       "      <th></th>\n",
       "      <th></th>\n",
       "      <th></th>\n",
       "      <th></th>\n",
       "      <th></th>\n",
       "      <th></th>\n",
       "      <th></th>\n",
       "      <th></th>\n",
       "      <th></th>\n",
       "      <th></th>\n",
       "      <th></th>\n",
       "    </tr>\n",
       "  </thead>\n",
       "  <tbody>\n",
       "    <tr>\n",
       "      <th>1991-92</th>\n",
       "      <td>2874</td>\n",
       "      <td>28632</td>\n",
       "      <td>9.96</td>\n",
       "      <td>5593</td>\n",
       "      <td>58532</td>\n",
       "      <td>10.47</td>\n",
       "      <td>Nil</td>\n",
       "      <td>Nil</td>\n",
       "      <td>Nil</td>\n",
       "      <td>2298</td>\n",
       "      <td>7498</td>\n",
       "      <td>3.26</td>\n",
       "      <td>2005</td>\n",
       "      <td>1900</td>\n",
       "      <td>0.95</td>\n",
       "      <td>12770</td>\n",
       "      <td>96562</td>\n",
       "      <td>7.56</td>\n",
       "    </tr>\n",
       "    <tr>\n",
       "      <th>2001-02</th>\n",
       "      <td>4010</td>\n",
       "      <td>43001</td>\n",
       "      <td>10.72</td>\n",
       "      <td>6156</td>\n",
       "      <td>88622</td>\n",
       "      <td>14.40</td>\n",
       "      <td>106</td>\n",
       "      <td>535</td>\n",
       "      <td>5.05</td>\n",
       "      <td>2984</td>\n",
       "      <td>9697</td>\n",
       "      <td>3.25</td>\n",
       "      <td>3220</td>\n",
       "      <td>3765</td>\n",
       "      <td>1.17</td>\n",
       "      <td>16592</td>\n",
       "      <td>145785</td>\n",
       "      <td>8.79</td>\n",
       "    </tr>\n",
       "    <tr>\n",
       "      <th>2002-03</th>\n",
       "      <td>3788</td>\n",
       "      <td>45203</td>\n",
       "      <td>11.93</td>\n",
       "      <td>6092</td>\n",
       "      <td>84815</td>\n",
       "      <td>13.92</td>\n",
       "      <td>70</td>\n",
       "      <td>735</td>\n",
       "      <td>10.5</td>\n",
       "      <td>2984</td>\n",
       "      <td>9697</td>\n",
       "      <td>3.25</td>\n",
       "      <td>3220</td>\n",
       "      <td>3765</td>\n",
       "      <td>1.17</td>\n",
       "      <td>16270</td>\n",
       "      <td>144380</td>\n",
       "      <td>8.87</td>\n",
       "    </tr>\n",
       "    <tr>\n",
       "      <th>2003-04</th>\n",
       "      <td>4661</td>\n",
       "      <td>45942</td>\n",
       "      <td>9.86</td>\n",
       "      <td>6082</td>\n",
       "      <td>88334</td>\n",
       "      <td>14.52</td>\n",
       "      <td>101</td>\n",
       "      <td>580</td>\n",
       "      <td>5.74</td>\n",
       "      <td>3102</td>\n",
       "      <td>13161</td>\n",
       "      <td>4.24</td>\n",
       "      <td>5155</td>\n",
       "      <td>5113</td>\n",
       "      <td>0.99</td>\n",
       "      <td>19208</td>\n",
       "      <td>153302</td>\n",
       "      <td>7.98</td>\n",
       "    </tr>\n",
       "    <tr>\n",
       "      <th>2004-05</th>\n",
       "      <td>5155</td>\n",
       "      <td>50988</td>\n",
       "      <td>9.89</td>\n",
       "      <td>6744</td>\n",
       "      <td>101246</td>\n",
       "      <td>15.01</td>\n",
       "      <td>249</td>\n",
       "      <td>818</td>\n",
       "      <td>3.29</td>\n",
       "      <td>3147</td>\n",
       "      <td>9835</td>\n",
       "      <td>3.13</td>\n",
       "      <td>3150</td>\n",
       "      <td>4001</td>\n",
       "      <td>1.27</td>\n",
       "      <td>18445</td>\n",
       "      <td>166939</td>\n",
       "      <td>9.05</td>\n",
       "    </tr>\n",
       "  </tbody>\n",
       "</table>\n",
       "</div>"
      ],
      "text/plain": [
       "         Fruits_A  Fruits_P  Fruits_Pdy  Veg_A   Veg_P  Veg_Pdy FAM_A FAM_P  \\\n",
       "Year                                                                          \n",
       "1991-92      2874     28632        9.96   5593   58532    10.47   Nil   Nil   \n",
       "2001-02      4010     43001       10.72   6156   88622    14.40   106   535   \n",
       "2002-03      3788     45203       11.93   6092   84815    13.92    70   735   \n",
       "2003-04      4661     45942        9.86   6082   88334    14.52   101   580   \n",
       "2004-05      5155     50988        9.89   6744  101246    15.01   249   818   \n",
       "\n",
       "        FAM_Pdy  Plantation_Crops_A  Plantation_Crops_P  Plantation_Crops_Pdy  \\\n",
       "Year                                                                            \n",
       "1991-92     Nil                2298                7498                  3.26   \n",
       "2001-02    5.05                2984                9697                  3.25   \n",
       "2002-03    10.5                2984                9697                  3.25   \n",
       "2003-04    5.74                3102               13161                  4.24   \n",
       "2004-05    3.29                3147                9835                  3.13   \n",
       "\n",
       "         Spices_A  Spices_P  Spices_Pdy  Total_A  Total_P  Total_Pdy  \n",
       "Year                                                                  \n",
       "1991-92      2005      1900        0.95    12770    96562       7.56  \n",
       "2001-02      3220      3765        1.17    16592   145785       8.79  \n",
       "2002-03      3220      3765        1.17    16270   144380       8.87  \n",
       "2003-04      5155      5113        0.99    19208   153302       7.98  \n",
       "2004-05      3150      4001        1.27    18445   166939       9.05  "
      ]
     },
     "execution_count": 3,
     "metadata": {},
     "output_type": "execute_result"
    }
   ],
   "source": [
    "my_data.head()"
   ]
  },
  {
   "cell_type": "markdown",
   "id": "overhead-dominant",
   "metadata": {
    "papermill": {
     "duration": 0.019415,
     "end_time": "2022-12-12T14:57:00.573398",
     "exception": false,
     "start_time": "2022-12-12T14:57:00.553983",
     "status": "completed"
    },
    "tags": []
   },
   "source": [
    "**We have some non-numeric values - 'Nil', it means the respective horticulture crop was not produced during that year. So lets replace them with zero.**"
   ]
  },
  {
   "cell_type": "code",
   "execution_count": 4,
   "id": "sharing-shareware",
   "metadata": {
    "execution": {
     "iopub.execute_input": "2022-12-12T14:57:00.620213Z",
     "iopub.status.busy": "2022-12-12T14:57:00.619404Z",
     "iopub.status.idle": "2022-12-12T14:57:00.624455Z",
     "shell.execute_reply": "2022-12-12T14:57:00.624910Z",
     "shell.execute_reply.started": "2022-12-12T14:44:14.207621Z"
    },
    "papermill": {
     "duration": 0.031858,
     "end_time": "2022-12-12T14:57:00.625088",
     "exception": false,
     "start_time": "2022-12-12T14:57:00.593230",
     "status": "completed"
    },
    "tags": []
   },
   "outputs": [
    {
     "data": {
      "text/plain": [
       "(18, 18)"
      ]
     },
     "execution_count": 4,
     "metadata": {},
     "output_type": "execute_result"
    }
   ],
   "source": [
    "my_data.shape"
   ]
  },
  {
   "cell_type": "code",
   "execution_count": 5,
   "id": "reduced-magazine",
   "metadata": {
    "execution": {
     "iopub.execute_input": "2022-12-12T14:57:00.686050Z",
     "iopub.status.busy": "2022-12-12T14:57:00.685361Z",
     "iopub.status.idle": "2022-12-12T14:57:00.689114Z",
     "shell.execute_reply": "2022-12-12T14:57:00.689627Z",
     "shell.execute_reply.started": "2022-12-12T14:44:14.216753Z"
    },
    "papermill": {
     "duration": 0.044998,
     "end_time": "2022-12-12T14:57:00.689789",
     "exception": false,
     "start_time": "2022-12-12T14:57:00.644791",
     "status": "completed"
    },
    "tags": []
   },
   "outputs": [
    {
     "name": "stdout",
     "output_type": "stream",
     "text": [
      "<class 'pandas.core.frame.DataFrame'>\n",
      "Index: 18 entries, 1991-92 to 2017-18\n",
      "Data columns (total 18 columns):\n",
      " #   Column                Non-Null Count  Dtype  \n",
      "---  ------                --------------  -----  \n",
      " 0   Fruits_A              18 non-null     int64  \n",
      " 1   Fruits_P              18 non-null     int64  \n",
      " 2   Fruits_Pdy            18 non-null     float64\n",
      " 3   Veg_A                 18 non-null     int64  \n",
      " 4   Veg_P                 18 non-null     int64  \n",
      " 5   Veg_Pdy               18 non-null     float64\n",
      " 6   FAM_A                 18 non-null     object \n",
      " 7   FAM_P                 18 non-null     object \n",
      " 8   FAM_Pdy               18 non-null     object \n",
      " 9   Plantation_Crops_A    18 non-null     int64  \n",
      " 10  Plantation_Crops_P    18 non-null     int64  \n",
      " 11  Plantation_Crops_Pdy  18 non-null     float64\n",
      " 12  Spices_A              18 non-null     int64  \n",
      " 13  Spices_P              18 non-null     int64  \n",
      " 14  Spices_Pdy            18 non-null     float64\n",
      " 15  Total_A               18 non-null     int64  \n",
      " 16  Total_P               18 non-null     int64  \n",
      " 17  Total_Pdy             18 non-null     float64\n",
      "dtypes: float64(5), int64(10), object(3)\n",
      "memory usage: 2.7+ KB\n"
     ]
    }
   ],
   "source": [
    "my_data.info()"
   ]
  },
  {
   "cell_type": "code",
   "execution_count": 6,
   "id": "forty-chase",
   "metadata": {
    "execution": {
     "iopub.execute_input": "2022-12-12T14:57:00.753763Z",
     "iopub.status.busy": "2022-12-12T14:57:00.753041Z",
     "iopub.status.idle": "2022-12-12T14:57:00.757794Z",
     "shell.execute_reply": "2022-12-12T14:57:00.757105Z",
     "shell.execute_reply.started": "2022-12-12T14:44:14.244259Z"
    },
    "papermill": {
     "duration": 0.047989,
     "end_time": "2022-12-12T14:57:00.757952",
     "exception": false,
     "start_time": "2022-12-12T14:57:00.709963",
     "status": "completed"
    },
    "tags": []
   },
   "outputs": [
    {
     "data": {
      "text/html": [
       "<div>\n",
       "<style scoped>\n",
       "    .dataframe tbody tr th:only-of-type {\n",
       "        vertical-align: middle;\n",
       "    }\n",
       "\n",
       "    .dataframe tbody tr th {\n",
       "        vertical-align: top;\n",
       "    }\n",
       "\n",
       "    .dataframe thead th {\n",
       "        text-align: right;\n",
       "    }\n",
       "</style>\n",
       "<table border=\"1\" class=\"dataframe\">\n",
       "  <thead>\n",
       "    <tr style=\"text-align: right;\">\n",
       "      <th></th>\n",
       "      <th>Fruits_A</th>\n",
       "      <th>Fruits_P</th>\n",
       "      <th>Fruits_Pdy</th>\n",
       "      <th>Veg_A</th>\n",
       "      <th>Veg_P</th>\n",
       "      <th>Veg_Pdy</th>\n",
       "      <th>FAM_A</th>\n",
       "      <th>FAM_P</th>\n",
       "      <th>FAM_Pdy</th>\n",
       "      <th>Plantation_Crops_A</th>\n",
       "      <th>Plantation_Crops_P</th>\n",
       "      <th>Plantation_Crops_Pdy</th>\n",
       "      <th>Spices_A</th>\n",
       "      <th>Spices_P</th>\n",
       "      <th>Spices_Pdy</th>\n",
       "      <th>Total_A</th>\n",
       "      <th>Total_P</th>\n",
       "      <th>Total_Pdy</th>\n",
       "    </tr>\n",
       "    <tr>\n",
       "      <th>Year</th>\n",
       "      <th></th>\n",
       "      <th></th>\n",
       "      <th></th>\n",
       "      <th></th>\n",
       "      <th></th>\n",
       "      <th></th>\n",
       "      <th></th>\n",
       "      <th></th>\n",
       "      <th></th>\n",
       "      <th></th>\n",
       "      <th></th>\n",
       "      <th></th>\n",
       "      <th></th>\n",
       "      <th></th>\n",
       "      <th></th>\n",
       "      <th></th>\n",
       "      <th></th>\n",
       "      <th></th>\n",
       "    </tr>\n",
       "  </thead>\n",
       "  <tbody>\n",
       "    <tr>\n",
       "      <th>1991-92</th>\n",
       "      <td>2874</td>\n",
       "      <td>28632</td>\n",
       "      <td>9.96</td>\n",
       "      <td>5593</td>\n",
       "      <td>58532</td>\n",
       "      <td>10.47</td>\n",
       "      <td>0.0</td>\n",
       "      <td>0.0</td>\n",
       "      <td>0.0</td>\n",
       "      <td>2298</td>\n",
       "      <td>7498</td>\n",
       "      <td>3.26</td>\n",
       "      <td>2005</td>\n",
       "      <td>1900</td>\n",
       "      <td>0.95</td>\n",
       "      <td>12770</td>\n",
       "      <td>96562</td>\n",
       "      <td>7.56</td>\n",
       "    </tr>\n",
       "    <tr>\n",
       "      <th>2001-02</th>\n",
       "      <td>4010</td>\n",
       "      <td>43001</td>\n",
       "      <td>10.72</td>\n",
       "      <td>6156</td>\n",
       "      <td>88622</td>\n",
       "      <td>14.40</td>\n",
       "      <td>535.0</td>\n",
       "      <td>535.0</td>\n",
       "      <td>535.0</td>\n",
       "      <td>2984</td>\n",
       "      <td>9697</td>\n",
       "      <td>3.25</td>\n",
       "      <td>3220</td>\n",
       "      <td>3765</td>\n",
       "      <td>1.17</td>\n",
       "      <td>16592</td>\n",
       "      <td>145785</td>\n",
       "      <td>8.79</td>\n",
       "    </tr>\n",
       "    <tr>\n",
       "      <th>2002-03</th>\n",
       "      <td>3788</td>\n",
       "      <td>45203</td>\n",
       "      <td>11.93</td>\n",
       "      <td>6092</td>\n",
       "      <td>84815</td>\n",
       "      <td>13.92</td>\n",
       "      <td>735.0</td>\n",
       "      <td>735.0</td>\n",
       "      <td>735.0</td>\n",
       "      <td>2984</td>\n",
       "      <td>9697</td>\n",
       "      <td>3.25</td>\n",
       "      <td>3220</td>\n",
       "      <td>3765</td>\n",
       "      <td>1.17</td>\n",
       "      <td>16270</td>\n",
       "      <td>144380</td>\n",
       "      <td>8.87</td>\n",
       "    </tr>\n",
       "    <tr>\n",
       "      <th>2003-04</th>\n",
       "      <td>4661</td>\n",
       "      <td>45942</td>\n",
       "      <td>9.86</td>\n",
       "      <td>6082</td>\n",
       "      <td>88334</td>\n",
       "      <td>14.52</td>\n",
       "      <td>580.0</td>\n",
       "      <td>580.0</td>\n",
       "      <td>580.0</td>\n",
       "      <td>3102</td>\n",
       "      <td>13161</td>\n",
       "      <td>4.24</td>\n",
       "      <td>5155</td>\n",
       "      <td>5113</td>\n",
       "      <td>0.99</td>\n",
       "      <td>19208</td>\n",
       "      <td>153302</td>\n",
       "      <td>7.98</td>\n",
       "    </tr>\n",
       "    <tr>\n",
       "      <th>2004-05</th>\n",
       "      <td>5155</td>\n",
       "      <td>50988</td>\n",
       "      <td>9.89</td>\n",
       "      <td>6744</td>\n",
       "      <td>101246</td>\n",
       "      <td>15.01</td>\n",
       "      <td>818.0</td>\n",
       "      <td>818.0</td>\n",
       "      <td>818.0</td>\n",
       "      <td>3147</td>\n",
       "      <td>9835</td>\n",
       "      <td>3.13</td>\n",
       "      <td>3150</td>\n",
       "      <td>4001</td>\n",
       "      <td>1.27</td>\n",
       "      <td>18445</td>\n",
       "      <td>166939</td>\n",
       "      <td>9.05</td>\n",
       "    </tr>\n",
       "  </tbody>\n",
       "</table>\n",
       "</div>"
      ],
      "text/plain": [
       "         Fruits_A  Fruits_P  Fruits_Pdy  Veg_A   Veg_P  Veg_Pdy  FAM_A  FAM_P  \\\n",
       "Year                                                                            \n",
       "1991-92      2874     28632        9.96   5593   58532    10.47    0.0    0.0   \n",
       "2001-02      4010     43001       10.72   6156   88622    14.40  535.0  535.0   \n",
       "2002-03      3788     45203       11.93   6092   84815    13.92  735.0  735.0   \n",
       "2003-04      4661     45942        9.86   6082   88334    14.52  580.0  580.0   \n",
       "2004-05      5155     50988        9.89   6744  101246    15.01  818.0  818.0   \n",
       "\n",
       "         FAM_Pdy  Plantation_Crops_A  Plantation_Crops_P  \\\n",
       "Year                                                       \n",
       "1991-92      0.0                2298                7498   \n",
       "2001-02    535.0                2984                9697   \n",
       "2002-03    735.0                2984                9697   \n",
       "2003-04    580.0                3102               13161   \n",
       "2004-05    818.0                3147                9835   \n",
       "\n",
       "         Plantation_Crops_Pdy  Spices_A  Spices_P  Spices_Pdy  Total_A  \\\n",
       "Year                                                                     \n",
       "1991-92                  3.26      2005      1900        0.95    12770   \n",
       "2001-02                  3.25      3220      3765        1.17    16592   \n",
       "2002-03                  3.25      3220      3765        1.17    16270   \n",
       "2003-04                  4.24      5155      5113        0.99    19208   \n",
       "2004-05                  3.13      3150      4001        1.27    18445   \n",
       "\n",
       "         Total_P  Total_Pdy  \n",
       "Year                         \n",
       "1991-92    96562       7.56  \n",
       "2001-02   145785       8.79  \n",
       "2002-03   144380       8.87  \n",
       "2003-04   153302       7.98  \n",
       "2004-05   166939       9.05  "
      ]
     },
     "execution_count": 6,
     "metadata": {},
     "output_type": "execute_result"
    }
   ],
   "source": [
    "# Replacing \"Nil\" values with 0 \"zero\" and change data type to float\n",
    "my_data = my_data.replace(\"Nil\", 0)\n",
    "\n",
    "my_data[\"FAM_A\"]=my_data.FAM_P.astype('float64')\n",
    "my_data[\"FAM_P\"]=my_data.FAM_P.astype('float64')\n",
    "my_data[\"FAM_Pdy\"]=my_data.FAM_P.astype('float64')\n",
    "my_data.head()"
   ]
  },
  {
   "cell_type": "code",
   "execution_count": 7,
   "id": "wicked-think",
   "metadata": {
    "execution": {
     "iopub.execute_input": "2022-12-12T14:57:00.805431Z",
     "iopub.status.busy": "2022-12-12T14:57:00.804714Z",
     "iopub.status.idle": "2022-12-12T14:57:00.808899Z",
     "shell.execute_reply": "2022-12-12T14:57:00.808365Z",
     "shell.execute_reply.started": "2022-12-12T14:44:14.276398Z"
    },
    "papermill": {
     "duration": 0.030523,
     "end_time": "2022-12-12T14:57:00.809044",
     "exception": false,
     "start_time": "2022-12-12T14:57:00.778521",
     "status": "completed"
    },
    "tags": []
   },
   "outputs": [
    {
     "data": {
      "text/plain": [
       "Fruits_A                  int64\n",
       "Fruits_P                  int64\n",
       "Fruits_Pdy              float64\n",
       "Veg_A                     int64\n",
       "Veg_P                     int64\n",
       "Veg_Pdy                 float64\n",
       "FAM_A                   float64\n",
       "FAM_P                   float64\n",
       "FAM_Pdy                 float64\n",
       "Plantation_Crops_A        int64\n",
       "Plantation_Crops_P        int64\n",
       "Plantation_Crops_Pdy    float64\n",
       "Spices_A                  int64\n",
       "Spices_P                  int64\n",
       "Spices_Pdy              float64\n",
       "Total_A                   int64\n",
       "Total_P                   int64\n",
       "Total_Pdy               float64\n",
       "dtype: object"
      ]
     },
     "execution_count": 7,
     "metadata": {},
     "output_type": "execute_result"
    }
   ],
   "source": [
    "my_data.dtypes"
   ]
  },
  {
   "cell_type": "code",
   "execution_count": 8,
   "id": "accompanied-landscape",
   "metadata": {
    "execution": {
     "iopub.execute_input": "2022-12-12T14:57:00.857969Z",
     "iopub.status.busy": "2022-12-12T14:57:00.857150Z",
     "iopub.status.idle": "2022-12-12T14:57:00.861704Z",
     "shell.execute_reply": "2022-12-12T14:57:00.862093Z",
     "shell.execute_reply.started": "2022-12-12T14:44:14.289303Z"
    },
    "papermill": {
     "duration": 0.032293,
     "end_time": "2022-12-12T14:57:00.862287",
     "exception": false,
     "start_time": "2022-12-12T14:57:00.829994",
     "status": "completed"
    },
    "tags": []
   },
   "outputs": [
    {
     "data": {
      "text/plain": [
       "Fruits_A                  int64\n",
       "Fruits_P                  int64\n",
       "Fruits_Pdy              float64\n",
       "Veg_A                     int64\n",
       "Veg_P                     int64\n",
       "Veg_Pdy                 float64\n",
       "FAM_A                   float64\n",
       "FAM_P                   float64\n",
       "FAM_Pdy                 float64\n",
       "Plantation_Crops_A        int64\n",
       "Plantation_Crops_P        int64\n",
       "Plantation_Crops_Pdy    float64\n",
       "Spices_A                  int64\n",
       "Spices_P                  int64\n",
       "Spices_Pdy              float64\n",
       "Total_A                   int64\n",
       "Total_P                   int64\n",
       "Total_Pdy               float64\n",
       "dtype: object"
      ]
     },
     "execution_count": 8,
     "metadata": {},
     "output_type": "execute_result"
    }
   ],
   "source": [
    "my_data.dtypes"
   ]
  },
  {
   "cell_type": "markdown",
   "id": "plastic-utilization",
   "metadata": {
    "papermill": {
     "duration": 0.021061,
     "end_time": "2022-12-12T14:57:00.904686",
     "exception": false,
     "start_time": "2022-12-12T14:57:00.883625",
     "status": "completed"
    },
    "tags": []
   },
   "source": [
    "# Production and Area Trend \n",
    "\n",
    "Let's see how the horticulture production has changed with change in area under cultivation throught these years."
   ]
  },
  {
   "cell_type": "code",
   "execution_count": 9,
   "id": "aging-investigator",
   "metadata": {
    "execution": {
     "iopub.execute_input": "2022-12-12T14:57:00.966671Z",
     "iopub.status.busy": "2022-12-12T14:57:00.965959Z",
     "iopub.status.idle": "2022-12-12T14:57:01.347908Z",
     "shell.execute_reply": "2022-12-12T14:57:01.347174Z",
     "shell.execute_reply.started": "2022-12-12T14:44:14.301756Z"
    },
    "papermill": {
     "duration": 0.421935,
     "end_time": "2022-12-12T14:57:01.348053",
     "exception": false,
     "start_time": "2022-12-12T14:57:00.926118",
     "status": "completed"
    },
    "tags": []
   },
   "outputs": [
    {
     "data": {
      "text/plain": [
       "Text(0, 0.5, 'Area/Production')"
      ]
     },
     "execution_count": 9,
     "metadata": {},
     "output_type": "execute_result"
    },
    {
     "data": {
      "image/png": "[encoded data removed]",
      "text/plain": [
       "<Figure size 1296x576 with 1 Axes>"
      ]
     },
     "metadata": {
      "needs_background": "light"
     },
     "output_type": "display_data"
    }
   ],
   "source": [
    "plt.figure(figsize=(18,8))\n",
    "sns.set_style(\"whitegrid\")\n",
    "plt.title( \"Area vs Production of Horticulture Crops in India\" )\n",
    "sns.lineplot(data=my_data[\"Total_A\"], label=\"Total Area (in '000 Ha)\")\n",
    "sns.lineplot(data=my_data['Total_P'], label =\"Total Production (in '000 MT)\")\n",
    "plt.xlabel(\"Year\")\n",
    "plt.ylabel(\"Area/Production\")"
   ]
  },
  {
   "cell_type": "markdown",
   "id": "capital-civilian",
   "metadata": {
    "papermill": {
     "duration": 0.022212,
     "end_time": "2022-12-12T14:57:01.392812",
     "exception": false,
     "start_time": "2022-12-12T14:57:01.370600",
     "status": "completed"
    },
    "tags": []
   },
   "source": [
    "We see that the area under cultivation has not changed as much compared to the growth in production. This may be due to enhanced farming technology or more efficient farming techniques overall. Lesser growth in area under cultivation means there must be tremendous increase in productivity."
   ]
  },
  {
   "cell_type": "markdown",
   "id": "cheap-chemistry",
   "metadata": {
    "papermill": {
     "duration": 0.022328,
     "end_time": "2022-12-12T14:57:01.438509",
     "exception": false,
     "start_time": "2022-12-12T14:57:01.416181",
     "status": "completed"
    },
    "tags": []
   },
   "source": [
    "# Productivity Trend \n",
    "## Let's see a plot to check our above statement."
   ]
  },
  {
   "cell_type": "code",
   "execution_count": 10,
   "id": "charming-angel",
   "metadata": {
    "execution": {
     "iopub.execute_input": "2022-12-12T14:57:01.491683Z",
     "iopub.status.busy": "2022-12-12T14:57:01.491066Z",
     "iopub.status.idle": "2022-12-12T14:57:01.496146Z",
     "shell.execute_reply": "2022-12-12T14:57:01.495607Z",
     "shell.execute_reply.started": "2022-12-12T14:44:14.781544Z"
    },
    "papermill": {
     "duration": 0.034787,
     "end_time": "2022-12-12T14:57:01.496322",
     "exception": false,
     "start_time": "2022-12-12T14:57:01.461535",
     "status": "completed"
    },
    "tags": []
   },
   "outputs": [
    {
     "data": {
      "text/plain": [
       "Year\n",
       "1991-92     7.56\n",
       "2001-02     8.79\n",
       "2002-03     8.87\n",
       "2003-04     7.98\n",
       "2004-05     9.05\n",
       "2005-06     9.77\n",
       "2006-07     9.89\n",
       "2007-08    10.45\n",
       "2008-09    10.39\n",
       "2009-10    10.69\n",
       "2010-11    11.02\n",
       "2011-12    11.07\n",
       "2012-13    11.35\n",
       "2013-14    11.46\n",
       "2014-15    12.00\n",
       "2015-16    11.69\n",
       "2016-17    12.10\n",
       "2017-18    12.25\n",
       "Name: Total_Pdy, dtype: float64"
      ]
     },
     "execution_count": 10,
     "metadata": {},
     "output_type": "execute_result"
    }
   ],
   "source": [
    "# Total productivity over the years\n",
    "my_data.loc[:,'Total_Pdy']"
   ]
  },
  {
   "cell_type": "markdown",
   "id": "informal-validity",
   "metadata": {
    "papermill": {
     "duration": 0.022161,
     "end_time": "2022-12-12T14:57:01.542219",
     "exception": false,
     "start_time": "2022-12-12T14:57:01.520058",
     "status": "completed"
    },
    "tags": []
   },
   "source": [
    "**Lets plot it**"
   ]
  },
  {
   "cell_type": "code",
   "execution_count": 11,
   "id": "solved-keeping",
   "metadata": {
    "execution": {
     "iopub.execute_input": "2022-12-12T14:57:01.591580Z",
     "iopub.status.busy": "2022-12-12T14:57:01.590939Z",
     "iopub.status.idle": "2022-12-12T14:57:01.850429Z",
     "shell.execute_reply": "2022-12-12T14:57:01.850901Z",
     "shell.execute_reply.started": "2022-12-12T14:44:14.792435Z"
    },
    "papermill": {
     "duration": 0.285952,
     "end_time": "2022-12-12T14:57:01.851068",
     "exception": false,
     "start_time": "2022-12-12T14:57:01.565116",
     "status": "completed"
    },
    "tags": []
   },
   "outputs": [
    {
     "data": {
      "text/plain": [
       "Text(0, 0.5, 'Total Productivity (MT/Ha)')"
      ]
     },
     "execution_count": 11,
     "metadata": {},
     "output_type": "execute_result"
    },
    {
     "data": {
      "image/png": "[encoded data removed]",
      "text/plain": [
       "<Figure size 1296x576 with 1 Axes>"
      ]
     },
     "metadata": {},
     "output_type": "display_data"
    }
   ],
   "source": [
    "plt.figure(figsize=(18,8))\n",
    "plt.title(\"Productivity over time\")\n",
    "sns.lineplot(data=my_data['Total_Pdy'])\n",
    "plt.ylabel('Total Productivity (MT/Ha)')"
   ]
  },
  {
   "cell_type": "markdown",
   "id": "dated-polyester",
   "metadata": {
    "papermill": {
     "duration": 0.023889,
     "end_time": "2022-12-12T14:57:01.898992",
     "exception": false,
     "start_time": "2022-12-12T14:57:01.875103",
     "status": "completed"
    },
    "tags": []
   },
   "source": [
    "We can see from the plot that productivity has increased to over 12 MT/Ha from below 8 MT/Ha in nearly three decades "
   ]
  },
  {
   "cell_type": "markdown",
   "id": "considerable-retailer",
   "metadata": {
    "papermill": {
     "duration": 0.024504,
     "end_time": "2022-12-12T14:57:01.947602",
     "exception": false,
     "start_time": "2022-12-12T14:57:01.923098",
     "status": "completed"
    },
    "tags": []
   },
   "source": [
    "# Production trend of each crop "
   ]
  },
  {
   "cell_type": "code",
   "execution_count": 12,
   "id": "dimensional-trader",
   "metadata": {
    "execution": {
     "iopub.execute_input": "2022-12-12T14:57:01.999368Z",
     "iopub.status.busy": "2022-12-12T14:57:01.998580Z",
     "iopub.status.idle": "2022-12-12T14:57:02.005373Z",
     "shell.execute_reply": "2022-12-12T14:57:02.005844Z",
     "shell.execute_reply.started": "2022-12-12T14:44:15.133737Z"
    },
    "papermill": {
     "duration": 0.033878,
     "end_time": "2022-12-12T14:57:02.006035",
     "exception": false,
     "start_time": "2022-12-12T14:57:01.972157",
     "status": "completed"
    },
    "tags": []
   },
   "outputs": [
    {
     "data": {
      "text/plain": [
       "Index(['Fruits_A', 'Fruits_P', 'Fruits_Pdy', 'Veg_A', 'Veg_P', 'Veg_Pdy',\n",
       "       'FAM_A', 'FAM_P', 'FAM_Pdy', 'Plantation_Crops_A', 'Plantation_Crops_P',\n",
       "       'Plantation_Crops_Pdy', 'Spices_A', 'Spices_P', 'Spices_Pdy', 'Total_A',\n",
       "       'Total_P', 'Total_Pdy'],\n",
       "      dtype='object')"
      ]
     },
     "execution_count": 12,
     "metadata": {},
     "output_type": "execute_result"
    }
   ],
   "source": [
    "my_data.columns"
   ]
  },
  {
   "cell_type": "code",
   "execution_count": 13,
   "id": "inappropriate-azerbaijan",
   "metadata": {
    "execution": {
     "iopub.execute_input": "2022-12-12T14:57:02.059520Z",
     "iopub.status.busy": "2022-12-12T14:57:02.058773Z",
     "iopub.status.idle": "2022-12-12T14:57:02.471744Z",
     "shell.execute_reply": "2022-12-12T14:57:02.471180Z",
     "shell.execute_reply.started": "2022-12-12T14:44:15.144952Z"
    },
    "papermill": {
     "duration": 0.440871,
     "end_time": "2022-12-12T14:57:02.471887",
     "exception": false,
     "start_time": "2022-12-12T14:57:02.031016",
     "status": "completed"
    },
    "tags": []
   },
   "outputs": [
    {
     "data": {
      "text/plain": [
       "Text(0, 0.5, \"Production in '000 MT'\")"
      ]
     },
     "execution_count": 13,
     "metadata": {},
     "output_type": "execute_result"
    },
    {
     "data": {
      "image/png": "[encoded data removed]",
      "text/plain": [
       "<Figure size 1296x576 with 1 Axes>"
      ]
     },
     "metadata": {},
     "output_type": "display_data"
    }
   ],
   "source": [
    "plt.figure(figsize=(18,8))\n",
    "plt.title(\"Trend of Production\")\n",
    "sns.lineplot(data=my_data['Fruits_P'], label =\"Fruit Production (in '000 MT)\")\n",
    "sns.lineplot(data=my_data['Veg_P'], label =\"Vegetable Production (in '000 MT)\")\n",
    "sns.lineplot(data=my_data['FAM_P'], label =\"FAM Production (in '000 MT)\")\n",
    "sns.lineplot(data=my_data['Spices_P'], label =\"Spices Production (in '000 MT)\")\n",
    "sns.lineplot(data=my_data['Plantation_Crops_P'], label =\"Plantation Crops Production (in '000 MT)\")\n",
    "plt.ylabel(\"Production in '000 MT'\")"
   ]
  },
  {
   "cell_type": "markdown",
   "id": "adaptive-manchester",
   "metadata": {
    "papermill": {
     "duration": 0.026524,
     "end_time": "2022-12-12T14:57:02.524665",
     "exception": false,
     "start_time": "2022-12-12T14:57:02.498141",
     "status": "completed"
    },
    "tags": []
   },
   "source": [
    "It is clear from the graph that vegetables makes the largest chunk of total production. Also, there has been roughly a linear increase in the production of each crop."
   ]
  },
  {
   "cell_type": "markdown",
   "id": "documented-oxygen",
   "metadata": {
    "papermill": {
     "duration": 0.026556,
     "end_time": "2022-12-12T14:57:02.577510",
     "exception": false,
     "start_time": "2022-12-12T14:57:02.550954",
     "status": "completed"
    },
    "tags": []
   },
   "source": [
    "# Let's see a comparitive analysis of area and production stats over last two decades \n",
    "\n",
    "* Note: We have only 8 years data for the last decade i.e., till 2018"
   ]
  },
  {
   "cell_type": "markdown",
   "id": "brave-chocolate",
   "metadata": {
    "papermill": {
     "duration": 0.026272,
     "end_time": "2022-12-12T14:57:02.630134",
     "exception": false,
     "start_time": "2022-12-12T14:57:02.603862",
     "status": "completed"
    },
    "tags": []
   },
   "source": [
    "### Comparing total production"
   ]
  },
  {
   "cell_type": "code",
   "execution_count": 14,
   "id": "compressed-albania",
   "metadata": {
    "execution": {
     "iopub.execute_input": "2022-12-12T14:57:02.690964Z",
     "iopub.status.busy": "2022-12-12T14:57:02.690189Z",
     "iopub.status.idle": "2022-12-12T14:57:02.694609Z",
     "shell.execute_reply": "2022-12-12T14:57:02.695206Z",
     "shell.execute_reply.started": "2022-12-12T14:44:15.660938Z"
    },
    "papermill": {
     "duration": 0.038954,
     "end_time": "2022-12-12T14:57:02.695429",
     "exception": false,
     "start_time": "2022-12-12T14:57:02.656475",
     "status": "completed"
    },
    "tags": []
   },
   "outputs": [
    {
     "name": "stdout",
     "output_type": "stream",
     "text": [
      "Total Production during 2001-2010 was: 1634.08 billion MT \n",
      "\n",
      "Total Production during 2011-2018 was: 2223.54 billion MT \n",
      "\n",
      "Total Production increased by 36%\n"
     ]
    }
   ],
   "source": [
    "# Find out total production for the two decades\n",
    "dec1_total = round(my_data.loc['2001-02': '2009-10', 'Total_P'].sum()/10**3,2) # for the 1st decade\n",
    "print(\"Total Production during 2001-2010 was: {} billion MT \\n\".format(dec1_total))\n",
    "\n",
    "dec2_total = round(my_data.loc['2010-11':, 'Total_P'].sum()/ 10**3,2) # for the 2nd decade\n",
    "print(\"Total Production during 2011-2018 was: {} billion MT \\n\".format(dec2_total))\n",
    "\n",
    "pct_change = ((dec2_total - dec1_total)/dec1_total)*100\n",
    "print(\"Total Production increased by {}%\".format(round(pct_change)))"
   ]
  },
  {
   "cell_type": "markdown",
   "id": "inside-output",
   "metadata": {
    "papermill": {
     "duration": 0.026407,
     "end_time": "2022-12-12T14:57:02.748379",
     "exception": false,
     "start_time": "2022-12-12T14:57:02.721972",
     "status": "completed"
    },
    "tags": []
   },
   "source": [
    "### Comparing total area under cultivation"
   ]
  },
  {
   "cell_type": "code",
   "execution_count": 15,
   "id": "departmental-proceeding",
   "metadata": {
    "execution": {
     "iopub.execute_input": "2022-12-12T14:57:02.810200Z",
     "iopub.status.busy": "2022-12-12T14:57:02.808992Z",
     "iopub.status.idle": "2022-12-12T14:57:02.813225Z",
     "shell.execute_reply": "2022-12-12T14:57:02.812666Z",
     "shell.execute_reply.started": "2022-12-12T14:44:15.671664Z"
    },
    "papermill": {
     "duration": 0.037857,
     "end_time": "2022-12-12T14:57:02.813368",
     "exception": false,
     "start_time": "2022-12-12T14:57:02.775511",
     "status": "completed"
    },
    "tags": []
   },
   "outputs": [
    {
     "name": "stdout",
     "output_type": "stream",
     "text": [
      "Total area cultivated during 2001-10 was: 170.36 milion Ha \n",
      "\n",
      "Total area cultivated during 2011-18 was: 191.12 million Ha \n",
      "\n",
      "Total area under cultivation increased by 12%\n"
     ]
    }
   ],
   "source": [
    "# Calculate total area under cultivation during the 1st decade\n",
    "dec1_area = round(my_data.loc['2001-02': '2009-10', 'Total_A'].sum()/1000, 2)\n",
    "print(\"Total area cultivated during 2001-10 was: {} milion Ha \\n\".format(dec1_area))\n",
    "\n",
    "dec2_area = round(my_data.loc['2010-11':, 'Total_A'].sum()/1000,2)\n",
    "print(\"Total area cultivated during 2011-18 was: {} million Ha \\n\".format(dec2_area))\n",
    "\n",
    "pct_change = ((dec2_area - dec1_area)/dec1_area)*100\n",
    "print(\"Total area under cultivation increased by {}%\".format(round(pct_change)))"
   ]
  },
  {
   "cell_type": "code",
   "execution_count": 16,
   "id": "returning-southwest",
   "metadata": {
    "execution": {
     "iopub.execute_input": "2022-12-12T14:57:02.929302Z",
     "iopub.status.busy": "2022-12-12T14:57:02.891578Z",
     "iopub.status.idle": "2022-12-12T14:57:03.111917Z",
     "shell.execute_reply": "2022-12-12T14:57:03.111171Z",
     "shell.execute_reply.started": "2022-12-12T14:51:07.112903Z"
    },
    "papermill": {
     "duration": 0.271736,
     "end_time": "2022-12-12T14:57:03.112075",
     "exception": false,
     "start_time": "2022-12-12T14:57:02.840339",
     "status": "completed"
    },
    "tags": []
   },
   "outputs": [
    {
     "data": {
      "text/plain": [
       "Text(1, 0, 'Only 8 years data available for 2nd decade')"
      ]
     },
     "execution_count": 16,
     "metadata": {},
     "output_type": "execute_result"
    },
    {
     "data": {
      "image/png": "[encoded data removed]",
      "text/plain": [
       "<Figure size 864x432 with 2 Axes>"
      ]
     },
     "metadata": {},
     "output_type": "display_data"
    }
   ],
   "source": [
    "fig, ax = plt.subplots(1,2, figsize=(12,6))\n",
    "fig.suptitle('Last Two Decades  Production and Area Comparision')\n",
    "ax[0].ticklabel_format(style='plain')\n",
    "ax[0].set_title(\"Total Production (billion MT)\")\n",
    "sns.barplot(ax = ax[0], y= [dec1_total, dec2_total], \n",
    "            x = [\"2001-10\", \"2011-2018\"])\n",
    "\n",
    "ax[1].set_title(\"Total Area Under Cultivation (million Ha)\")\n",
    "sns.barplot(ax = ax[1], y= [dec1_area, dec2_area], \n",
    "            x = [\"2001-10\", \"2011-2018\"])\n",
    "plt.xlabel(\"Only 8 years data available for 2nd decade\", loc = \"right\")\n"
   ]
  },
  {
   "cell_type": "markdown",
   "id": "fundamental-arrangement",
   "metadata": {
    "papermill": {
     "duration": 0.027779,
     "end_time": "2022-12-12T14:57:03.168999",
     "exception": false,
     "start_time": "2022-12-12T14:57:03.141220",
     "status": "completed"
    },
    "tags": []
   },
   "source": [
    "We can see that 8 years production has beat the previous entire decade's production - a 36% increase, whearas area under cultivation has increased by 12%. \n",
    "\n",
    "As seen in the productivity trend we can say that increase in productivity has been the key driver production increase. Lets get a deeper insight into the productivity:"
   ]
  },
  {
   "cell_type": "markdown",
   "id": "academic-credit",
   "metadata": {
    "papermill": {
     "duration": 0.027493,
     "end_time": "2022-12-12T14:57:03.224355",
     "exception": false,
     "start_time": "2022-12-12T14:57:03.196862",
     "status": "completed"
    },
    "tags": []
   },
   "source": [
    "### Comapring mean productivity"
   ]
  },
  {
   "cell_type": "code",
   "execution_count": 17,
   "id": "mysterious-tragedy",
   "metadata": {
    "execution": {
     "iopub.execute_input": "2022-12-12T14:57:03.287374Z",
     "iopub.status.busy": "2022-12-12T14:57:03.286727Z",
     "iopub.status.idle": "2022-12-12T14:57:03.290720Z",
     "shell.execute_reply": "2022-12-12T14:57:03.290068Z",
     "shell.execute_reply.started": "2022-12-12T14:44:15.980577Z"
    },
    "papermill": {
     "duration": 0.038374,
     "end_time": "2022-12-12T14:57:03.290860",
     "exception": false,
     "start_time": "2022-12-12T14:57:03.252486",
     "status": "completed"
    },
    "tags": []
   },
   "outputs": [
    {
     "name": "stdout",
     "output_type": "stream",
     "text": [
      "Mean productivity during 2001-10 was: 9.54 MT/Ha \n",
      "\n",
      "Mean productivity during 2011-18 was: 11.62 MT/Ha\n"
     ]
    }
   ],
   "source": [
    "# Calculate mean productivity during the 1st decade\n",
    "dec1_pdy = round(my_data.loc['2001-02': '2009-10', 'Total_Pdy'].mean(), 2)\n",
    "print(\"Mean productivity during 2001-10 was: {} MT/Ha \\n\".format(dec1_pdy))\n",
    "\n",
    "# Calculate mean productivity during the 2nd decade\n",
    "dec2_pdy = round(my_data.loc['2010-11':, 'Total_Pdy'].mean(), 2)\n",
    "print(\"Mean productivity during 2011-18 was: {} MT/Ha\".format(dec2_pdy))"
   ]
  },
  {
   "cell_type": "markdown",
   "id": "communist-adjustment",
   "metadata": {
    "papermill": {
     "duration": 0.028196,
     "end_time": "2022-12-12T14:57:03.347660",
     "exception": false,
     "start_time": "2022-12-12T14:57:03.319464",
     "status": "completed"
    },
    "tags": []
   },
   "source": [
    "Mean productivity has increased by about 2 MT/Ha"
   ]
  }
 ],
 "metadata": {
  "kernelspec": {
   "display_name": "Python 3",
   "language": "python",
   "name": "python3"
  },
  "language_info": {
   "codemirror_mode": {
    "name": "ipython",
    "version": 3
   },
   "file_extension": ".py",
   "mimetype": "text/x-python",
   "name": "python",
   "nbconvert_exporter": "python",
   "pygments_lexer": "ipython3",
   "version": "3.7.10"
  },
  "papermill": {
   "default_parameters": {},
   "duration": 12.586331,
   "end_time": "2022-12-12T14:57:04.187502",
   "environment_variables": {},
   "exception": null,
   "input_path": "__notebook__.ipynb",
   "output_path": "__notebook__.ipynb",
   "parameters": {},
   "start_time": "2022-12-12T14:56:51.601171",
   "version": "2.3.3"
  }
 },
 "nbformat": 4,
 "nbformat_minor": 5
}
